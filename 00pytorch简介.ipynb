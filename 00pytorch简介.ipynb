{
 "cells": [
  {
   "cell_type": "markdown",
   "id": "7a6a6339",
   "metadata": {},
   "source": [
    "## Pytorch\n",
    "\n"
   ]
  },
  {
   "cell_type": "markdown",
   "id": "3c99c7f9",
   "metadata": {
    "ExecuteTime": {
     "end_time": "2022-09-03T13:52:48.655512Z",
     "start_time": "2022-09-03T13:52:48.643503Z"
    }
   },
   "source": [
    "编写的Torch库的Python实现的深度学习库，目前被广泛应用于学术界和工业界，而随着Caffe2项目并入Pytorch， Pytorch开始影响到TensorFlow在深度学习应用框架领域的地位。 \n",
    "\n"
   ]
  },
  {
   "cell_type": "code",
   "execution_count": null,
   "id": "7ca2a3d1",
   "metadata": {},
   "outputs": [],
   "source": []
  }
 ],
 "metadata": {
  "kernelspec": {
   "display_name": "Python 3 (ipykernel)",
   "language": "python",
   "name": "python3"
  },
  "language_info": {
   "codemirror_mode": {
    "name": "ipython",
    "version": 3
   },
   "file_extension": ".py",
   "mimetype": "text/x-python",
   "name": "python",
   "nbconvert_exporter": "python",
   "pygments_lexer": "ipython3",
   "version": "3.9.7"
  }
 },
 "nbformat": 4,
 "nbformat_minor": 5
}
