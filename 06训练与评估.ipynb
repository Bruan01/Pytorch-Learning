{
 "cells": [
  {
   "cell_type": "markdown",
   "id": "3ae1c5e1",
   "metadata": {},
   "source": [
    "# 训练和评估\n",
    "首先应该设置模型的状态：如果是训练状态，那么模型的参数应该支持反向传播的修改；如果是验证/测试状态，则不应该修改模型参数。\n",
    "\n",
    "```python\n",
    "model.train()   # 训练状态\n",
    "model.eval()   # 验证/测试状态\n",
    "```"
   ]
  },
  {
   "cell_type": "markdown",
   "id": "0428e222",
   "metadata": {
    "ExecuteTime": {
     "end_time": "2022-09-05T05:19:06.571706Z",
     "start_time": "2022-09-05T05:19:06.564708Z"
    }
   },
   "source": [
    "我们前面在DataLoader构建完成后介绍了如何从中读取数据，在训练过程中使用类似的操作即可，区别在于此时要用for循环读取DataLoader中的全部数据。\n",
    "```py\n",
    "for data, label in train_loader:\n",
    "```\n",
    "开始用当前批次数据做训练时，应当先将优化器的梯度置零：\n",
    "```py\n",
    "optimizer.zero_grad()\n",
    "```\n",
    "之后将data送入模型中训练：\n",
    "```py\n",
    "output = model(data)\n",
    "```\n",
    "根据预先定义的criterion计算损失函数：\n",
    "```py\n",
    "loss = criterion(output, label)\n",
    "```\n",
    "将loss反向传播回网络：\n",
    "```py\n",
    "loss.backward()\n",
    "```\n",
    "使用优化器更新模型参数：\n",
    "```py\n",
    "optimizer.step()\n",
    "```"
   ]
  },
  {
   "cell_type": "markdown",
   "id": "02b80e21",
   "metadata": {
    "ExecuteTime": {
     "end_time": "2022-09-05T05:20:37.343514Z",
     "start_time": "2022-09-05T05:20:37.330456Z"
    }
   },
   "source": [
    "#### 一个完整的图像分类的训练过程如下所示"
   ]
  },
  {
   "cell_type": "code",
   "execution_count": 6,
   "id": "53aed049",
   "metadata": {
    "ExecuteTime": {
     "end_time": "2022-09-05T05:24:27.750223Z",
     "start_time": "2022-09-05T05:24:27.742209Z"
    }
   },
   "outputs": [],
   "source": [
    "def train(epoch):\n",
    "    model.train()\n",
    "    train_loss = 0\n",
    "    for data, label in train_loader:\n",
    "        data, label = data.cuda(), label.cuda()\n",
    "        optimizer.zero_grad()\n",
    "        output = model(data)\n",
    "        loss = criterion(label, output)\n",
    "        loss.backward()\n",
    "        optimizer.step()\n",
    "        train_loss += loss.item()*data.size(0)\n",
    "    train_loss = train_loss/len(train_loader.dataset)\n",
    "    print('Epoch: {} \\tTraining Loss: {:.6f}'.format(epoch, train_loss))\n"
   ]
  },
  {
   "cell_type": "markdown",
   "id": "a1020246",
   "metadata": {},
   "source": [
    "#### 分类验证过程"
   ]
  },
  {
   "cell_type": "code",
   "execution_count": 7,
   "id": "58624dfe",
   "metadata": {
    "ExecuteTime": {
     "end_time": "2022-09-05T05:25:00.237793Z",
     "start_time": "2022-09-05T05:25:00.227162Z"
    }
   },
   "outputs": [],
   "source": [
    "def val(epoch):       \n",
    "    model.eval()\n",
    "    val_loss = 0\n",
    "    with torch.no_grad():\n",
    "        for data, label in val_loader:\n",
    "            data, label = data.cuda(), label.cuda()\n",
    "            output = model(data)\n",
    "            preds = torch.argmax(output, 1)\n",
    "            loss = criterion(output, label)\n",
    "            val_loss += loss.item()*data.size(0)\n",
    "            running_accu += torch.sum(preds == label.data)\n",
    "    val_loss = val_loss/len(val_loader.dataset)\n",
    "    print('Epoch: {} \\tTraining Loss: {:.6f}'.format(epoch, val_loss))"
   ]
  },
  {
   "cell_type": "code",
   "execution_count": null,
   "id": "3bf12145",
   "metadata": {},
   "outputs": [],
   "source": []
  }
 ],
 "metadata": {
  "kernelspec": {
   "display_name": "Python 3 (ipykernel)",
   "language": "python",
   "name": "python3"
  },
  "language_info": {
   "codemirror_mode": {
    "name": "ipython",
    "version": 3
   },
   "file_extension": ".py",
   "mimetype": "text/x-python",
   "name": "python",
   "nbconvert_exporter": "python",
   "pygments_lexer": "ipython3",
   "version": "3.9.7"
  }
 },
 "nbformat": 4,
 "nbformat_minor": 5
}
