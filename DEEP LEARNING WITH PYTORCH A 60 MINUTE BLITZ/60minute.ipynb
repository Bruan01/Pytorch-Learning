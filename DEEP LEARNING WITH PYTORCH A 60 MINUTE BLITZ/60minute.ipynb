{
 "cells": [
  {
   "cell_type": "markdown",
   "id": "a004cd69",
   "metadata": {},
   "source": [
    "# tensors\n",
    "##  what is tensor?\n",
    "### One visual explanation is that\n",
    "Tensors are similar to NumPy’s ndarrays, except that tensors can run on GPUs or other specialized hardware to accelerate computing."
   ]
  },
  {
   "cell_type": "code",
   "execution_count": 3,
   "id": "d4249642",
   "metadata": {},
   "outputs": [],
   "source": [
    "import torch\n",
    "import numpy as np"
   ]
  },
  {
   "cell_type": "markdown",
   "id": "70659bf4",
   "metadata": {},
   "source": [
    "# tensor initialization"
   ]
  }
 ],
 "metadata": {
  "kernelspec": {
   "display_name": "MachineLearning",
   "language": "python",
   "name": "machinelearning"
  },
  "language_info": {
   "codemirror_mode": {
    "name": "ipython",
    "version": 3
   },
   "file_extension": ".py",
   "mimetype": "text/x-python",
   "name": "python",
   "nbconvert_exporter": "python",
   "pygments_lexer": "ipython3",
   "version": "3.8.13"
  }
 },
 "nbformat": 4,
 "nbformat_minor": 5
}
