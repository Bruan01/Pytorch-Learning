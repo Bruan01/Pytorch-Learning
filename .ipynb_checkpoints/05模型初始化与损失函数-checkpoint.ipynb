{
 "cells": [
  {
   "cell_type": "markdown",
   "id": "6a178ddb",
   "metadata": {},
   "source": [
    "# 模型初始化\n",
    "在深度学习模型的训练中，权重的初始值极为重要。一个好的权重值，会使模型收敛速度提高，使模型准确率更精确。为了利于训练和减少收敛时间，我们需要对模型进行合理的初始化。PyTorch也在torch.nn.init中为我们提供了常用的初始化方法。\n",
    "- 常见的初始化函数\n",
    "- 初始化函数的使用"
   ]
  },
  {
   "cell_type": "code",
   "execution_count": 2,
   "id": "0f96c0a8",
   "metadata": {
    "ExecuteTime": {
     "end_time": "2022-09-05T04:05:32.382915Z",
     "start_time": "2022-09-05T04:05:32.379904Z"
    }
   },
   "outputs": [],
   "source": [
    "# torch.nn.init使用\n",
    "# 我们通常会根据实际模型来使用torch.nn.init进行初始化\n",
    "# 通常使用isinstance来进行判断模块（回顾3.4模型构建）属于什么类型。"
   ]
  },
  {
   "cell_type": "code",
   "execution_count": 4,
   "id": "fac2a76f",
   "metadata": {
    "ExecuteTime": {
     "end_time": "2022-09-05T04:08:20.303678Z",
     "start_time": "2022-09-05T04:08:20.283607Z"
    }
   },
   "outputs": [
    {
     "name": "stdout",
     "output_type": "stream",
     "text": [
      "True\n",
      "False\n"
     ]
    }
   ],
   "source": [
    "import torch\n",
    "import torch.nn as nn\n",
    "\n",
    "conv = nn.Conv2d(1,3,3)\n",
    "linear = nn.Linear(10,1)\n",
    "\n",
    "print(isinstance(conv,nn.Conv2d))\n",
    "print(isinstance(linear,nn.Conv2d))"
   ]
  },
  {
   "cell_type": "markdown",
   "id": "652a44d1",
   "metadata": {},
   "source": [
    "### 对于不同的类型层，我们就可以设置不同的权值初始化的方法。"
   ]
  },
  {
   "cell_type": "markdown",
   "id": "3b1ede92",
   "metadata": {},
   "source": [
    "#### 拿取层参数 \n",
    "首先我们需要拿到层所随机初始化之后的参数"
   ]
  },
  {
   "cell_type": "code",
   "execution_count": 9,
   "id": "7482bb57",
   "metadata": {
    "ExecuteTime": {
     "end_time": "2022-09-05T04:10:40.201129Z",
     "start_time": "2022-09-05T04:10:40.186127Z"
    }
   },
   "outputs": [
    {
     "data": {
      "text/plain": [
       "tensor([[[[-0.1801,  0.2297,  0.2328],\n",
       "          [-0.2041,  0.1175,  0.3318],\n",
       "          [ 0.0570, -0.2980, -0.1158]]],\n",
       "\n",
       "\n",
       "        [[[ 0.1025,  0.1727, -0.0621],\n",
       "          [-0.2068,  0.2554, -0.2688],\n",
       "          [ 0.1897,  0.0356,  0.0219]]],\n",
       "\n",
       "\n",
       "        [[[-0.0908,  0.3285,  0.0295],\n",
       "          [-0.1455, -0.0750,  0.0856],\n",
       "          [ 0.2112, -0.3247, -0.0712]]]])"
      ]
     },
     "execution_count": 9,
     "metadata": {},
     "output_type": "execute_result"
    }
   ],
   "source": [
    "# 查看随机初始化的函数参数\n",
    "conv.weight.data"
   ]
  },
  {
   "cell_type": "code",
   "execution_count": 10,
   "id": "e6e35704",
   "metadata": {
    "ExecuteTime": {
     "end_time": "2022-09-05T04:12:47.180835Z",
     "start_time": "2022-09-05T04:12:47.159656Z"
    }
   },
   "outputs": [
    {
     "data": {
      "text/plain": [
       "tensor([[-0.1371, -0.1165,  0.1790, -0.0335, -0.1937,  0.1473,  0.1356,  0.0920,\n",
       "          0.2176,  0.2745]])"
      ]
     },
     "execution_count": 10,
     "metadata": {},
     "output_type": "execute_result"
    }
   ],
   "source": [
    "# 查看linear的参数\n",
    "linear.weight.data"
   ]
  },
  {
   "cell_type": "markdown",
   "id": "49bfdda5",
   "metadata": {},
   "source": [
    "#### 初始化\n",
    "选择相对应的函数进行初始化参数"
   ]
  },
  {
   "cell_type": "code",
   "execution_count": 12,
   "id": "6f3960f3",
   "metadata": {
    "ExecuteTime": {
     "end_time": "2022-09-05T04:15:43.428660Z",
     "start_time": "2022-09-05T04:15:43.407597Z"
    }
   },
   "outputs": [
    {
     "name": "stdout",
     "output_type": "stream",
     "text": [
      "tensor([[[[-0.0990, -0.3632, -0.1734],\n",
      "          [-0.8624, -0.5647,  0.1924],\n",
      "          [ 0.0384,  0.6536, -0.6042]]],\n",
      "\n",
      "\n",
      "        [[[-0.4753, -0.0695, -0.1767],\n",
      "          [-0.2614,  0.0385, -0.3188],\n",
      "          [-0.4604, -0.3205,  0.6670]]],\n",
      "\n",
      "\n",
      "        [[[ 0.8137, -0.2370, -0.2146],\n",
      "          [-0.8852, -0.2923,  0.1341],\n",
      "          [ 0.5398, -0.6068, -0.8933]]]])\n",
      "tensor([[0.3000, 0.3000, 0.3000, 0.3000, 0.3000, 0.3000, 0.3000, 0.3000, 0.3000,\n",
      "         0.3000]])\n"
     ]
    }
   ],
   "source": [
    "# 对conv进行kaiming初始化\n",
    "torch.nn.init.kaiming_normal_(conv.weight.data)\n",
    "print(conv.weight.data)\n",
    "# 对linear进行常数初始化\n",
    "torch.nn.init.constant_(linear.weight.data,0.3)\n",
    "print(linear.weight.data)"
   ]
  },
  {
   "cell_type": "markdown",
   "id": "f06a81ea",
   "metadata": {},
   "source": [
    "## 初始化函数的封装\n",
    "人们常常将各种初始化方法定义为一个initialize_weights()的函数并在模型初始后进行使用。"
   ]
  },
  {
   "cell_type": "code",
   "execution_count": 13,
   "id": "24a45d51",
   "metadata": {
    "ExecuteTime": {
     "end_time": "2022-09-05T04:22:11.600090Z",
     "start_time": "2022-09-05T04:22:11.580411Z"
    }
   },
   "outputs": [],
   "source": [
    "def initialize_weights(self):\n",
    "\tfor m in self.modules():\n",
    "\t\t# 判断是否属于Conv2d\n",
    "\t\tif isinstance(m, nn.Conv2d):\n",
    "\t\t\ttorch.nn.init.xavier_normal_(m.weight.data)\n",
    "\t\t\t# 判断是否有偏置\n",
    "\t\t\tif m.bias is not None:\n",
    "\t\t\t\ttorch.nn.init.constant_(m.bias.data,0.3)\n",
    "\t\telif isinstance(m, nn.Linear):\n",
    "\t\t\ttorch.nn.init.normal_(m.weight.data, 0.1)\n",
    "\t\t\tif m.bias is not None:\n",
    "\t\t\t\ttorch.nn.init.zeros_(m.bias.data)\n",
    "\t\telif isinstance(m, nn.BatchNorm2d):\n",
    "\t\t\tm.weight.data.fill_(1) \t\t \n",
    "\t\t\tm.bias.data.zeros_()\t"
   ]
  },
  {
   "cell_type": "markdown",
   "id": "ac506ffe",
   "metadata": {},
   "source": [
    "### 一个例子"
   ]
  },
  {
   "cell_type": "code",
   "execution_count": 15,
   "id": "0c952b61",
   "metadata": {
    "ExecuteTime": {
     "end_time": "2022-09-05T04:37:46.318714Z",
     "start_time": "2022-09-05T04:37:46.298673Z"
    }
   },
   "outputs": [
    {
     "name": "stdout",
     "output_type": "stream",
     "text": [
      "[Parameter containing:\n",
      "tensor([[[[ 0.3235, -0.3023, -0.2001],\n",
      "          [-0.2643, -0.2360,  0.2569],\n",
      "          [-0.2096, -0.2922,  0.2455]]]], requires_grad=True), Parameter containing:\n",
      "tensor([-0.0215], requires_grad=True), Parameter containing:\n",
      "tensor([[ 0.0113,  0.2873,  0.3085, -0.1122, -0.3001, -0.2956,  0.2570,  0.1314,\n",
      "          0.0714, -0.2100]], requires_grad=True), Parameter containing:\n",
      "tensor([-0.1672], requires_grad=True)]\n",
      "-------初始化-------\n",
      "[Parameter containing:\n",
      "tensor([[[[-0.2821,  0.1196, -0.2784],\n",
      "          [ 0.0179, -0.1733, -0.1929],\n",
      "          [ 0.1880, -0.2099,  0.0288]]]], requires_grad=True), Parameter containing:\n",
      "tensor([0.3000], requires_grad=True), Parameter containing:\n",
      "tensor([[-1.3102,  0.8398, -1.0876, -1.0242,  1.3724,  0.8497, -0.7586, -0.0541,\n",
      "         -0.2608,  0.6487]], requires_grad=True), Parameter containing:\n",
      "tensor([0.], requires_grad=True)]\n"
     ]
    }
   ],
   "source": [
    "# 模型定义\n",
    "class MLP(nn.Module):\n",
    "    def __init__(self,**kwargs):\n",
    "#          调用MLP父类Block的构造函数来进行必要的初始化。\n",
    "#          这样在构造实例时还可以指定其他函数\n",
    "        super(MLP,self).__init__(**kwargs)\n",
    "        self.hidden = nn.Conv2d(1,1,3)\n",
    "        self.act = nn.ReLU()\n",
    "        self.output = nn.Linear(10,1)\n",
    "   # 定义模型的前向计算，即如何根据输入x计算返回所需要的模型输出\n",
    "    def forward(self, x):\n",
    "        o = self.act(self.hidden(x))\n",
    "        return self.output(o)\n",
    "\n",
    "mlp = MLP()\n",
    "print(list(mlp.parameters()))\n",
    "print(\"-------初始化-------\")\n",
    "\n",
    "initialize_weights(mlp)\n",
    "print(list(mlp.parameters()))"
   ]
  },
  {
   "cell_type": "code",
   "execution_count": null,
   "id": "306a825d",
   "metadata": {},
   "outputs": [],
   "source": []
  },
  {
   "cell_type": "markdown",
   "id": "68c083b0",
   "metadata": {},
   "source": [
    "# 损失函数\n",
    "在深度学习广为使用的今天，我们可以在脑海里清晰的知道，一个模型想要达到很好的效果需要学习，也就是我们常说的训练。一个好的训练离不开优质的负反馈，这里的损失函数就是模型的负反馈。"
   ]
  },
  {
   "cell_type": "markdown",
   "id": "73147bf0",
   "metadata": {
    "ExecuteTime": {
     "end_time": "2022-09-05T04:40:36.198597Z",
     "start_time": "2022-09-05T04:40:36.150118Z"
    }
   },
   "source": [
    "下面我们将开始探索pytorch的所拥有的损失函数。这里将列出PyTorch中常用的损失函数（一般通过torch.nn调用），并详细介绍每个损失函数的功能介绍、数学公式和调用代码。"
   ]
  },
  {
   "cell_type": "markdown",
   "id": "fd0b3e30",
   "metadata": {},
   "source": [
    "###  二分类交叉熵损失函数\n",
    "```python\n",
    "torch.nn.BCELoss(weight=None, size_average=None, reduce=None, reduction='mean')\n",
    "```\n",
    "计算二分类任务时的交叉熵（Cross Entropy）函数。在二分类中，label是{0,1}。对于进入交叉熵函数的input为概率分布的形式。一般来说，input为sigmoid激活层的输出，或者softmax的输出。"
   ]
  },
  {
   "cell_type": "code",
   "execution_count": 17,
   "id": "a806e628",
   "metadata": {
    "ExecuteTime": {
     "end_time": "2022-09-05T04:49:42.037519Z",
     "start_time": "2022-09-05T04:49:41.981576Z"
    }
   },
   "outputs": [],
   "source": [
    "m = nn.Sigmoid()\n",
    "loss = nn.BCELoss()\n",
    "input = torch.randn(3, requires_grad=True)\n",
    "target = torch.empty(3).random_(2)\n",
    "output = loss(m(input), target)\n",
    "output.backward()"
   ]
  },
  {
   "cell_type": "code",
   "execution_count": 18,
   "id": "94323d4f",
   "metadata": {
    "ExecuteTime": {
     "end_time": "2022-09-05T04:49:47.404355Z",
     "start_time": "2022-09-05T04:49:47.385288Z"
    }
   },
   "outputs": [
    {
     "name": "stdout",
     "output_type": "stream",
     "text": [
      "BCELoss损失函数的计算结果为 tensor(0.6264, grad_fn=<BinaryCrossEntropyBackward0>)\n"
     ]
    }
   ],
   "source": [
    "print('BCELoss损失函数的计算结果为',output)"
   ]
  },
  {
   "cell_type": "markdown",
   "id": "2865d371",
   "metadata": {
    "ExecuteTime": {
     "end_time": "2022-09-05T04:51:20.411768Z",
     "start_time": "2022-09-05T04:51:20.392118Z"
    }
   },
   "source": [
    "更多损失函数待更新！......"
   ]
  },
  {
   "cell_type": "code",
   "execution_count": null,
   "id": "7cd4dad7",
   "metadata": {},
   "outputs": [],
   "source": []
  },
  {
   "cell_type": "code",
   "execution_count": null,
   "id": "35e03f0f",
   "metadata": {},
   "outputs": [],
   "source": []
  },
  {
   "cell_type": "code",
   "execution_count": null,
   "id": "12fedce4",
   "metadata": {},
   "outputs": [],
   "source": []
  },
  {
   "cell_type": "code",
   "execution_count": null,
   "id": "657b097c",
   "metadata": {},
   "outputs": [],
   "source": []
  },
  {
   "cell_type": "code",
   "execution_count": null,
   "id": "52e4c094",
   "metadata": {},
   "outputs": [],
   "source": []
  }
 ],
 "metadata": {
  "kernelspec": {
   "display_name": "Python 3 (ipykernel)",
   "language": "python",
   "name": "python3"
  },
  "language_info": {
   "codemirror_mode": {
    "name": "ipython",
    "version": 3
   },
   "file_extension": ".py",
   "mimetype": "text/x-python",
   "name": "python",
   "nbconvert_exporter": "python",
   "pygments_lexer": "ipython3",
   "version": "3.9.7"
  }
 },
 "nbformat": 4,
 "nbformat_minor": 5
}
