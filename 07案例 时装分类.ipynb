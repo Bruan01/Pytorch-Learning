{
 "cells": [
  {
   "cell_type": "markdown",
   "id": "78bbbd00",
   "metadata": {},
   "source": [
    "# FashionMNIST时装分类\n",
    "![](https://datawhalechina.github.io/thorough-pytorch/_images/fashion-mnist-sprite.png)"
   ]
  },
  {
   "cell_type": "markdown",
   "id": "8bd6c9b4",
   "metadata": {},
   "source": [
    "我们这里的任务是对10个类别的“时装”图像进行分类，使用FashionMNIST数据集。 上图给出了FashionMNIST中数据的若干样例图，其中每个小图对应一个样本。\n",
    "FashionMNIST数据集中包含已经预先划分好的训练集和测试集，其中训练集共60,000张图像，测试集共10,000张图像。每张图像均为单通道黑白图像，大小为28*28pixel，分属10个类别。\n",
    "### 导包"
   ]
  },
  {
   "cell_type": "code",
   "execution_count": 25,
   "id": "6f8707c6",
   "metadata": {
    "ExecuteTime": {
     "end_time": "2022-09-05T10:35:39.071902Z",
     "start_time": "2022-09-05T10:35:39.057616Z"
    }
   },
   "outputs": [],
   "source": [
    "import os \n",
    "import numpy as np\n",
    "import pandas as pd\n",
    "import torch\n",
    "import torch.nn as nn\n",
    "import torch.optim as optim\n",
    "from torch.utils.data import Dataset,DataLoader"
   ]
  },
  {
   "cell_type": "markdown",
   "id": "1c9698ac",
   "metadata": {},
   "source": [
    "### 配置环境训练和超参数"
   ]
  },
  {
   "cell_type": "code",
   "execution_count": 61,
   "id": "8195ee70",
   "metadata": {
    "ExecuteTime": {
     "end_time": "2022-09-05T11:02:11.968397Z",
     "start_time": "2022-09-05T11:02:11.956357Z"
    }
   },
   "outputs": [],
   "source": [
    "# 配置GPU，这里有两种方式\n",
    "## 方案一：使用os.environ\n",
    "os.environ['CUDA_VISIBLE_DEVICES'] = '0'\n",
    "# 方案二：使用“device”，后续对要使用GPU的变量用.to(device)即可\n",
    "device = torch.device(\"cuda:1\" if torch.cuda.is_available() else \"cpu\")\n",
    "\n",
    "## 配置其他超参数，如batch_size, num_workers, learning rate, 以及总的epochs\n",
    "batch_size = 256\n",
    "num_workers = 0   # 对于Windows用户，这里应设置为0，否则会出现多线程错误\n",
    "lr = 1e-4\n",
    "epochs = 20"
   ]
  },
  {
   "cell_type": "markdown",
   "id": "cf39063d",
   "metadata": {},
   "source": [
    "### 数据读入和加载\n",
    "这里同时展示两种方式:\n",
    "\n",
    "下载并使用PyTorch提供的内置数据集\n",
    "\n",
    "从网站下载以csv格式存储的数据，读入并转成预期的格式\n",
    "第一种数据读入方式只适用于常见的数据集，如MNIST，CIFAR10等，PyTorch官方提供了数据下载。这种方式往往适用于快速测试方法（比如测试下某个idea在MNIST数据集上是否有效）\n",
    "第二种数据读入方式需要自己构建Dataset，这对于PyTorch应用于自己的工作中十分重要\n",
    "\n",
    "同时，还需要对数据进行必要的变换，比如说需要将图片统一为一致的大小，以便后续能够输入网络训练；需要将数据格式转为Tensor类，等等。\n",
    "\n",
    "这些变换可以很方便地借助torchvision包来完成，这是PyTorch官方用于图像处理的工具库，上面提到的使用内置数据集的方式也要用到。PyTorch的一大方便之处就在于它是一整套“生态”，有着官方和第三方各个领域的支持。这些内容我们会在后续课程中详细介绍。"
   ]
  },
  {
   "cell_type": "code",
   "execution_count": 100,
   "id": "3c9e432c",
   "metadata": {
    "ExecuteTime": {
     "end_time": "2022-09-05T13:43:23.070049Z",
     "start_time": "2022-09-05T13:43:23.061521Z"
    }
   },
   "outputs": [],
   "source": [
    "# 首先设置数据换\n",
    "from torchvision import transforms\n",
    "\n",
    "image_size = 28 \n",
    "data_transform = transforms.Compose([\n",
    "#     transforms.ToPILImage(),\n",
    "    # 这一步取决于后续的数据读取方式，如果使用内置数据集读取方式则不需要\n",
    "    transforms.ToTensor(),\n",
    "    transforms.Resize(image_size)\n",
    "    \n",
    "])"
   ]
  },
  {
   "cell_type": "code",
   "execution_count": 105,
   "id": "8dd4f38e",
   "metadata": {
    "ExecuteTime": {
     "end_time": "2022-09-05T13:44:58.914333Z",
     "start_time": "2022-09-05T13:44:58.849320Z"
    }
   },
   "outputs": [],
   "source": [
    "## 读取方式一：使用torchvision自带数据集，下载可能需要一段时间\n",
    "from torchvision import datasets\n",
    "\n",
    "train_data = datasets.FashionMNIST(root='./', train=True, download=True, transform=data_transform)\n",
    "test_data = datasets.FashionMNIST(root='./', train=False, download=True, transform=data_transform)"
   ]
  },
  {
   "cell_type": "markdown",
   "id": "67c60582",
   "metadata": {},
   "source": [
    "在构建训练和测试数据集完成后，需要定义DataLoader类，以便在训练和测试时加载数据"
   ]
  },
  {
   "cell_type": "code",
   "execution_count": 106,
   "id": "db25f001",
   "metadata": {
    "ExecuteTime": {
     "end_time": "2022-09-05T13:44:59.929959Z",
     "start_time": "2022-09-05T13:44:59.909077Z"
    }
   },
   "outputs": [],
   "source": [
    "train_loader = DataLoader(train_data, batch_size=batch_size, shuffle=True, num_workers=num_workers, drop_last=True)\n",
    "test_loader = DataLoader(test_data, batch_size=batch_size, shuffle=False, num_workers=num_workers)"
   ]
  },
  {
   "cell_type": "markdown",
   "id": "c2caa6c3",
   "metadata": {},
   "source": [
    "可视化"
   ]
  },
  {
   "cell_type": "code",
   "execution_count": 107,
   "id": "16e90ab5",
   "metadata": {
    "ExecuteTime": {
     "end_time": "2022-09-05T13:45:01.451260Z",
     "start_time": "2022-09-05T13:45:01.270997Z"
    }
   },
   "outputs": [
    {
     "name": "stdout",
     "output_type": "stream",
     "text": [
      "torch.Size([256, 1, 28, 28]) torch.Size([256])\n"
     ]
    },
    {
     "data": {
      "text/plain": [
       "<matplotlib.image.AxesImage at 0x25e944b9c10>"
      ]
     },
     "execution_count": 107,
     "metadata": {},
     "output_type": "execute_result"
    },
    {
     "data": {
      "image/png": "[encoded data removed]",
      "text/plain": [
       "<Figure size 432x288 with 1 Axes>"
      ]
     },
     "metadata": {
      "needs_background": "light"
     },
     "output_type": "display_data"
    }
   ],
   "source": [
    "import matplotlib.pyplot as plt\n",
    "image, label = next(iter(train_loader))\n",
    "print(image.shape, label.shape)\n",
    "plt.imshow(image[0][0], cmap=\"gray\")"
   ]
  },
  {
   "cell_type": "markdown",
   "id": "5c7744f5",
   "metadata": {},
   "source": [
    "### 模型设计\n",
    "由于任务较为简单，这里我们手搭一个CNN，而不考虑当下各种模型的复杂结构，模型构建完成后，将模型放到GPU上用于训练。"
   ]
  },
  {
   "cell_type": "code",
   "execution_count": 117,
   "id": "a976ef7a",
   "metadata": {
    "ExecuteTime": {
     "end_time": "2022-09-05T13:46:06.954229Z",
     "start_time": "2022-09-05T13:46:06.937228Z"
    }
   },
   "outputs": [],
   "source": [
    "# 张图像均为单通道黑白图像，大小为28*28pixel，分属10个类别。\n",
    "class Net(nn.Module):\n",
    "    def __init__(self):\n",
    "        super(Net,self).__init__()\n",
    "        self.conv = nn.Sequential(\n",
    "            nn.Conv2d(1,32,5),\n",
    "            nn.ReLU(),\n",
    "            nn.MaxPool2d(2,stride=2),\n",
    "            nn.Dropout(0.3),\n",
    "            nn.Conv2d(32,64,5),\n",
    "            nn.ReLU(),\n",
    "            nn.MaxPool2d(2,stride=2),\n",
    "            nn.Dropout(0.3)\n",
    "        )\n",
    "        self.fc = nn.Sequential(\n",
    "            nn.Linear(64*4*4,512),\n",
    "            nn.ReLU(),\n",
    "            nn.Linear(512,10)\n",
    "        )\n",
    "    \n",
    "    def forward(self,x):\n",
    "        x = self.conv(x)\n",
    "        x = x.view(-1,64*4*4)\n",
    "        x = self.fc(x)\n",
    "        # x = nn.funtional.normalize(x)\n",
    "        return x\n",
    "    \n",
    "model = Net()\n",
    "# model = model.cuda()"
   ]
  },
  {
   "cell_type": "markdown",
   "id": "a3fe318d",
   "metadata": {},
   "source": [
    "### 设定损失函数\n",
    "使用torch.nn模块自带的CrossEntropy损失\n",
    "PyTorch会自动把整数型的label转为one-hot型，用于计算CE loss\n",
    "这里需要确保label是从0开始的，同时模型不加softmax层（使用logits计算）,这也说明了PyTorch训练中各个部分不是独立的，需要通盘考虑"
   ]
  },
  {
   "cell_type": "code",
   "execution_count": 118,
   "id": "9ae8d394",
   "metadata": {
    "ExecuteTime": {
     "end_time": "2022-09-05T13:46:08.153177Z",
     "start_time": "2022-09-05T13:46:08.148175Z"
    }
   },
   "outputs": [],
   "source": [
    "criterion = nn.CrossEntropyLoss()"
   ]
  },
  {
   "cell_type": "code",
   "execution_count": 119,
   "id": "9c0a345f",
   "metadata": {
    "ExecuteTime": {
     "end_time": "2022-09-05T13:46:08.529590Z",
     "start_time": "2022-09-05T13:46:08.511837Z"
    }
   },
   "outputs": [],
   "source": [
    "# # 这里方便看一下weighting等策略\n",
    "?nn.CrossEntropyLoss "
   ]
  },
  {
   "cell_type": "markdown",
   "id": "b8922147",
   "metadata": {},
   "source": [
    "### 设定优化器"
   ]
  },
  {
   "cell_type": "code",
   "execution_count": 120,
   "id": "813335cb",
   "metadata": {
    "ExecuteTime": {
     "end_time": "2022-09-05T13:46:09.401697Z",
     "start_time": "2022-09-05T13:46:09.384684Z"
    }
   },
   "outputs": [],
   "source": [
    "optimizer = optim.Adam(model.parameters(), lr=0.001)"
   ]
  },
  {
   "cell_type": "markdown",
   "id": "3586b9f0",
   "metadata": {},
   "source": [
    "### 训练和测试（验证）\n",
    "各自封装成函数，方便后续调用\n",
    "关注两者的主要区别：\n",
    "\n",
    "- 模型状态设置\n",
    "\n",
    "- 是否需要初始化优化器\n",
    "\n",
    "- 是否需要将loss传回到网络\n",
    "\n",
    "- 是否需要每步更新optimizer\n",
    "\n",
    "此外，对于测试或验证过程，可以计算分类准确率"
   ]
  },
  {
   "cell_type": "code",
   "execution_count": 121,
   "id": "284fac5c",
   "metadata": {
    "ExecuteTime": {
     "end_time": "2022-09-05T13:46:10.181089Z",
     "start_time": "2022-09-05T13:46:10.160809Z"
    }
   },
   "outputs": [],
   "source": [
    "# 训练过程\n",
    "def train(epoch):\n",
    "    model.train()\n",
    "    train_loss = 0\n",
    "    for data, label in train_loader:\n",
    "#         data, label = data.cuda(), label.cuda()\n",
    "        optimizer.zero_grad()\n",
    "        output = model(data)\n",
    "        loss = criterion(output, label)\n",
    "        loss.backward()\n",
    "        optimizer.step()\n",
    "        train_loss += loss.item()*data.size(0)\n",
    "    train_loss = train_loss/len(train_loader.dataset)\n",
    "    print('Epoch: {} \\tTraining Loss: {:.6f}'.format(epoch, train_loss))\n",
    "# 测试过程    \n",
    "def val(epoch):       \n",
    "    model.eval()\n",
    "    val_loss = 0\n",
    "    gt_labels = []\n",
    "    pred_labels = []\n",
    "    with torch.no_grad():\n",
    "        for data, label in test_loader:\n",
    "#           data, label = data.cuda(), label.cuda()\n",
    "            output = model(data)\n",
    "            preds = torch.argmax(output, 1)\n",
    "            gt_labels.append(label.cpu().data.numpy())\n",
    "            pred_labels.append(preds.cpu().data.numpy())\n",
    "            loss = criterion(output, label)\n",
    "            val_loss += loss.item()*data.size(0)\n",
    "    val_loss = val_loss/len(test_loader.dataset)\n",
    "    gt_labels, pred_labels = np.concatenate(gt_labels), np.concatenate(pred_labels)\n",
    "    acc = np.sum(gt_labels==pred_labels)/len(pred_labels)\n",
    "    print('Epoch: {} \\tValidation Loss: {:.6f}, Accuracy: {:6f}'.format(epoch, val_loss, acc))"
   ]
  },
  {
   "cell_type": "code",
   "execution_count": 123,
   "id": "f48acf76",
   "metadata": {
    "ExecuteTime": {
     "end_time": "2022-09-05T14:21:30.433628Z",
     "start_time": "2022-09-05T14:07:45.348459Z"
    }
   },
   "outputs": [
    {
     "name": "stdout",
     "output_type": "stream",
     "text": [
      "第1轮训练与测试：\n",
      "Epoch: 1 \tTraining Loss: 0.174166\n",
      "Epoch: 1 \tValidation Loss: 0.220920, Accuracy: 0.918800\n",
      "第2轮训练与测试：\n",
      "Epoch: 2 \tTraining Loss: 0.169405\n",
      "Epoch: 2 \tValidation Loss: 0.223340, Accuracy: 0.919600\n",
      "第3轮训练与测试：\n",
      "Epoch: 3 \tTraining Loss: 0.162666\n",
      "Epoch: 3 \tValidation Loss: 0.223142, Accuracy: 0.922900\n",
      "第4轮训练与测试：\n",
      "Epoch: 4 \tTraining Loss: 0.157157\n",
      "Epoch: 4 \tValidation Loss: 0.232861, Accuracy: 0.916400\n",
      "第5轮训练与测试：\n",
      "Epoch: 5 \tTraining Loss: 0.156765\n",
      "Epoch: 5 \tValidation Loss: 0.220231, Accuracy: 0.925900\n",
      "第6轮训练与测试：\n",
      "Epoch: 6 \tTraining Loss: 0.154458\n",
      "Epoch: 6 \tValidation Loss: 0.225280, Accuracy: 0.922000\n",
      "第7轮训练与测试：\n",
      "Epoch: 7 \tTraining Loss: 0.144363\n",
      "Epoch: 7 \tValidation Loss: 0.227795, Accuracy: 0.920100\n",
      "第8轮训练与测试：\n",
      "Epoch: 8 \tTraining Loss: 0.145523\n",
      "Epoch: 8 \tValidation Loss: 0.234561, Accuracy: 0.919100\n",
      "第9轮训练与测试：\n",
      "Epoch: 9 \tTraining Loss: 0.138404\n",
      "Epoch: 9 \tValidation Loss: 0.235604, Accuracy: 0.919600\n",
      "第10轮训练与测试：\n",
      "Epoch: 10 \tTraining Loss: 0.137579\n",
      "Epoch: 10 \tValidation Loss: 0.227419, Accuracy: 0.921500\n",
      "第11轮训练与测试：\n",
      "Epoch: 11 \tTraining Loss: 0.133704\n",
      "Epoch: 11 \tValidation Loss: 0.233371, Accuracy: 0.923800\n",
      "第12轮训练与测试：\n",
      "Epoch: 12 \tTraining Loss: 0.128933\n",
      "Epoch: 12 \tValidation Loss: 0.233210, Accuracy: 0.920900\n",
      "第13轮训练与测试：\n",
      "Epoch: 13 \tTraining Loss: 0.129026\n",
      "Epoch: 13 \tValidation Loss: 0.234945, Accuracy: 0.926000\n",
      "第14轮训练与测试：\n",
      "Epoch: 14 \tTraining Loss: 0.125282\n",
      "Epoch: 14 \tValidation Loss: 0.244805, Accuracy: 0.922300\n",
      "第15轮训练与测试：\n",
      "Epoch: 15 \tTraining Loss: 0.125707\n",
      "Epoch: 15 \tValidation Loss: 0.225720, Accuracy: 0.924200\n",
      "第16轮训练与测试：\n",
      "Epoch: 16 \tTraining Loss: 0.118912\n",
      "Epoch: 16 \tValidation Loss: 0.234936, Accuracy: 0.923000\n",
      "第17轮训练与测试：\n",
      "Epoch: 17 \tTraining Loss: 0.117821\n",
      "Epoch: 17 \tValidation Loss: 0.237942, Accuracy: 0.923900\n",
      "第18轮训练与测试：\n",
      "Epoch: 18 \tTraining Loss: 0.115007\n",
      "Epoch: 18 \tValidation Loss: 0.241404, Accuracy: 0.923600\n",
      "第19轮训练与测试：\n",
      "Epoch: 19 \tTraining Loss: 0.112693\n",
      "Epoch: 19 \tValidation Loss: 0.234598, Accuracy: 0.924100\n",
      "第20轮训练与测试：\n",
      "Epoch: 20 \tTraining Loss: 0.108356\n",
      "Epoch: 20 \tValidation Loss: 0.234367, Accuracy: 0.928100\n"
     ]
    }
   ],
   "source": [
    "if __name__ == '__main__' : \n",
    "# 主函数\n",
    "    for epoch in range(1, epochs+1):\n",
    "        print(\"第\"+str(epoch)+\"轮训练与测试：\")\n",
    "        train(epoch)\n",
    "        val(epoch)"
   ]
  },
  {
   "cell_type": "code",
   "execution_count": null,
   "id": "59c392a5",
   "metadata": {},
   "outputs": [],
   "source": []
  },
  {
   "cell_type": "code",
   "execution_count": null,
   "id": "74b2cb72",
   "metadata": {},
   "outputs": [],
   "source": []
  }
 ],
 "metadata": {
  "kernelspec": {
   "display_name": "Python 3 (ipykernel)",
   "language": "python",
   "name": "python3"
  },
  "language_info": {
   "codemirror_mode": {
    "name": "ipython",
    "version": 3
   },
   "file_extension": ".py",
   "mimetype": "text/x-python",
   "name": "python",
   "nbconvert_exporter": "python",
   "pygments_lexer": "ipython3",
   "version": "3.9.7"
  }
 },
 "nbformat": 4,
 "nbformat_minor": 5
}
